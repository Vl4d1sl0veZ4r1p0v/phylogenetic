{
 "cells": [
  {
   "cell_type": "markdown",
   "metadata": {},
   "source": [
    "<h2>Получаем номера данных из статей через регулярное выражение</h2>"
   ]
  },
  {
   "cell_type": "code",
   "execution_count": 3,
   "metadata": {},
   "outputs": [],
   "source": [
    "from re import finditer, compile"
   ]
  },
  {
   "cell_type": "code",
   "execution_count": 4,
   "metadata": {},
   "outputs": [],
   "source": [
    "article = '''FIGURE 4 | Maximum likelihood protein phylogeny of select Cav\n",
    "channels from animals, rooted with Cav channel homologs from fungi.\n",
    "Inference was achieved using MUSCLE protein alignment with MEGA7,\n",
    "followed by alignment trimming with TrimAL. Evolutionary models for maximum\n",
    "likelihood phylogenetic inference were tested with MEGA7, indicating that the\n",
    "LG matrix with gamma frequencies was the best fit using both corrected\n",
    "Akaike’s Information Criterion and Bayesian Information Criterion. Node\n",
    "support values from 500 bootstrap replicates are indicated. GenBank\n",
    "accession numbers: Salpingoeca Cav1/Cav2: XP_004989719; Amphimedon\n",
    "Cav1/Cav2: XP_003383036; Trichoplax Cav1: XP_002108930; Trichoplax\n",
    "Cav2: XP_002109775; Trichoplax Cav3: KJ466205; C.elegans Cav1 (egl-19):\n",
    "NP_001023079; C.elegans Cav2 (unc-2): NP_001123176; C.elegans Cav3\n",
    "(cca-1): CCD68017; Drosophila Cav1 (α1-D): AAF53504; Drosophila Cav2\n",
    "(cacophony): AFH07350; Drosophila Cav3 (Ca-α1T): ABW09342; Lymnaea\n",
    "Cav1: AAO83839; Lymnaea Cav2: AAO83841; Lymnaea Cav3: AAO83843;\n",
    "human Cav1.1: NP_000060.2; human Cav1.2: AAI46847.1; human Cav1.3:\n",
    "NP_001122312.1; human Cav1.4: NP_005174.2; human Cav2.1: O00555.2;\n",
    "human Cav2.2: NP_000709; human Cav2.3: NP_001192222.1; human\n",
    "Cav3.1: NP_061496; human Cav3.2: NP_066921; human Cav3.3:\n",
    "NP_066919; Mnemiopsis Cav2: AEF59085; S.cerevisae CCH1: P50077;\n",
    "S.pombe CCH1: NP_593894.1. Other accession numbers: Nematostella\n",
    "Cav1: JGI-Genome Portal protein ID 88037; Nematostella Cav2a, Cav2b,\n",
    "Cav2c, Cav3a, Cav3b: Transcript sequences from the sequenced\n",
    "transcriptome (Fredman et al., 2013) NVE4667, NVE18768, NVE1263,\n",
    "NVE5017, and NVE7616 respectively. Scale bar represents the number of\n",
    "amino acid substitutions per site along the sequence alignment.'''"
   ]
  },
  {
   "cell_type": "code",
   "execution_count": 5,
   "metadata": {},
   "outputs": [],
   "source": [
    "compiled = compile(r'[A-Z]{1,}_?[.\\d]{2,}')\n",
    "indexes = []\n",
    "for number in compiled.finditer(article):\n",
    "    indexes.append(number.group(0))"
   ]
  },
  {
   "cell_type": "code",
   "execution_count": 7,
   "metadata": {},
   "outputs": [],
   "source": [
    "with open('indexes.txt', 'w') as fout:\n",
    "    for index in indexes:\n",
    "        print(index, file=fout)"
   ]
  },
  {
   "cell_type": "code",
   "execution_count": 20,
   "metadata": {
    "collapsed": true,
    "jupyter": {
     "outputs_hidden": true
    }
   },
   "outputs": [
    {
     "name": "stdout",
     "output_type": "stream",
     "text": [
      "===========fphys-07-00481.pdf===========\n",
      "XP_004989719\n",
      "XP_003383036\n",
      "XP_002108930\n",
      "XP_002109775\n",
      "KJ466205\n",
      "NP_001023079\n",
      "NP_001123176\n",
      "CCD68017\n",
      "AAF53504\n",
      "AFH07350\n",
      "ABW09342\n",
      "AAO83839\n",
      "AAO83841\n",
      "AAO83843\n",
      "NP_000060.2\n",
      "AAI46847.1\n",
      "NP_001122312.1\n",
      "NP_005174.2\n",
      "O00555.2\n",
      "NP_000709\n",
      "NP_001192222.1\n",
      "NP_061496\n",
      "NP_066921\n",
      "NP_066919\n",
      "AEF59085\n",
      "P50077\n",
      "NP_593894.1.\n",
      "ID88037\n",
      "NVE4667\n",
      "NVE18768\n",
      "NVE1263\n",
      "NVE5017\n",
      "NVE7616\n",
      "BF02464405\n",
      "S0896\n",
      "BF00189597\n",
      "BF00140327\n",
      "BF02137740\n",
      "S56\n",
      "S62.\n",
      "BF02084247\n",
      "R233\n",
      "R234.\n",
      "S0896\n",
      "R15.\n",
      "BF00217442\n",
      "JNEUROSCI.0965\n",
      "BF01104029\n",
      "S0022\n",
      "M112.378554\n",
      "R592\n",
      "R594.\n",
      "E846\n",
      "E851.\n",
      "S0898\n",
      "BF00312216\n",
      "R757\n",
      "R761.\n",
      "S0378\n",
      "R112.343061\n",
      "BF00603615\n",
      "M204137200\n",
      "S0896\n",
      "S1990519\n",
      "X15060085\n",
      "BF00298024\n",
      "R158\n",
      "R160.\n",
      "BF02568675\n",
      "M114.551473\n",
      "BF00221609\n",
      "M211076200\n",
      "BF00612572\n",
      "BF00402849\n",
      "BF03043791\n",
      "BF00611993\n",
      "BF01179820\n",
      "S0303\n",
      "S0959\n",
      "M111.290882\n",
      "S0896\n",
      "S0378\n",
      "========================================\n",
      "============147-0706442a.pdf============\n",
      "S56\n",
      "S622006\n",
      "S57\n",
      "S58\n",
      "S59\n",
      "S60\n",
      "D79\n",
      "S61\n",
      "E75\n",
      "DC97\n",
      "S62\n",
      "========================================\n",
      "==============BBA06_07.pdf==============\n",
      "CNRSUMR5203\n",
      "INSERMU661\n",
      "V1.1\n",
      "V1.4\n",
      "V1.2\n",
      "V1.1\n",
      "R1086\n",
      "V1.1\n",
      "V1.1\n",
      "V1.4\n",
      "V1.4\n",
      "V1.4\n",
      "L1364\n",
      "V1.4\n",
      "V1.4\n",
      "V1.4\n",
      "V1.4\n",
      "V1.2\n",
      "V1.2\n",
      "G406\n",
      "G402\n",
      "G406\n",
      "V1.2\n",
      "V3.2\n",
      "ASD.3.\n",
      "V2.1\n",
      "V2.1\n",
      "V2.1\n",
      "V2.1\n",
      "V2.1\n",
      "R192\n",
      "R192\n",
      "V2.1\n",
      "R192\n",
      "EA2.\n",
      "V2.1\n",
      "V2.1\n",
      "V2.1\n",
      "V2.1\n",
      "V2.1\n",
      "EA2.\n",
      "R1820\n",
      "V2.1.\n",
      "V2.1\n",
      "V2.1\n",
      "V3.2\n",
      "V3.2\n",
      "V3.2\n",
      "V3.2\n",
      "V3.2\n",
      "V1.2\n",
      "C1094\n",
      "C1102.\n",
      "A.102\n",
      "A.99\n",
      "C1209\n",
      "C1220.\n",
      "RC14.\n",
      "========================================\n"
     ]
    }
   ],
   "source": [
    "import PyPDF2\n",
    "import os \n",
    "compiled = compile(r'[A-Z]{1,}_?[.\\d]{2,}')\n",
    "with open('indexes.txt', 'w') as fout:\n",
    "    for file in os.listdir('./'):\n",
    "        if file.endswith('.pdf'):\n",
    "            with open(file, 'rb') as pdfFileObj:\n",
    "                print(file.center(40, '='))\n",
    "                pdfReader = PyPDF2.PdfFileReader(pdfFileObj)\n",
    "                for i in range(pdfReader.numPages):\n",
    "                    for number in compiled.finditer(pdfReader.getPage(i).extractText()):\n",
    "                        print(number.group(0))\n",
    "                print('=' * 40)"
   ]
  },
  {
   "cell_type": "markdown",
   "metadata": {},
   "source": [
    "<h2>Upload the data sequences</h2>"
   ]
  },
  {
   "cell_type": "code",
   "execution_count": 36,
   "metadata": {},
   "outputs": [],
   "source": [
    "indexes = [\n",
    "    'CAA97244.1'\n",
    "    'XM_004989662.1',\n",
    "    'XM_002108894.1',\n",
    "    'XM_002109739.1',\n",
    "    'KJ466205.1',\n",
    "    'NM_001019324.2',\n",
    "]\n",
    "\n",
    "# filename = './indexes.txt'\n",
    "\n",
    "# indexes = []\n",
    "# with open(filename) as fin:\n",
    "#     indexes = list(map(lambda x: x.strip(), fin.readlines()))\n",
    "\n",
    "# print(indexes)"
   ]
  },
  {
   "cell_type": "markdown",
   "metadata": {},
   "source": [
    "<h3>Поиск в Entrez и запись всех последоватальностей <b>нуклеотидов</b> в одном файле .fasta</h3>\n"
   ]
  },
  {
   "cell_type": "code",
   "execution_count": 37,
   "metadata": {
    "collapsed": true,
    "jupyter": {
     "outputs_hidden": true
    }
   },
   "outputs": [
    {
     "ename": "NameError",
     "evalue": "name 'Exceprion' is not defined",
     "output_type": "error",
     "traceback": [
      "\u001b[0;31m---------------------------------------------------------------------------\u001b[0m",
      "\u001b[0;31mHTTPError\u001b[0m                                 Traceback (most recent call last)",
      "\u001b[0;32m<ipython-input-37-d6c98f0ac928>\u001b[0m in \u001b[0;36m<module>\u001b[0;34m\u001b[0m\n\u001b[1;32m      8\u001b[0m     \u001b[0;32mtry\u001b[0m\u001b[0;34m:\u001b[0m\u001b[0;34m\u001b[0m\u001b[0;34m\u001b[0m\u001b[0m\n\u001b[0;32m----> 9\u001b[0;31m         \u001b[0mseq\u001b[0m \u001b[0;34m=\u001b[0m \u001b[0mEntrez\u001b[0m\u001b[0;34m.\u001b[0m\u001b[0mefetch\u001b[0m\u001b[0;34m(\u001b[0m\u001b[0mdb\u001b[0m\u001b[0;34m=\u001b[0m\u001b[0;34m'nucleotide'\u001b[0m\u001b[0;34m,\u001b[0m \u001b[0mid\u001b[0m\u001b[0;34m=\u001b[0m\u001b[0;34m[\u001b[0m\u001b[0mindex\u001b[0m\u001b[0;34m]\u001b[0m\u001b[0;34m,\u001b[0m \u001b[0mrettype\u001b[0m\u001b[0;34m=\u001b[0m\u001b[0;34m'fasta'\u001b[0m\u001b[0;34m)\u001b[0m\u001b[0;34m\u001b[0m\u001b[0;34m\u001b[0m\u001b[0m\n\u001b[0m\u001b[1;32m     10\u001b[0m         \u001b[0mrecords\u001b[0m\u001b[0;34m.\u001b[0m\u001b[0mappend\u001b[0m\u001b[0;34m(\u001b[0m\u001b[0mSeqIO\u001b[0m\u001b[0;34m.\u001b[0m\u001b[0mread\u001b[0m\u001b[0;34m(\u001b[0m\u001b[0mseq\u001b[0m\u001b[0;34m,\u001b[0m \u001b[0;34m'fasta'\u001b[0m\u001b[0;34m)\u001b[0m\u001b[0;34m)\u001b[0m\u001b[0;34m\u001b[0m\u001b[0;34m\u001b[0m\u001b[0m\n",
      "\u001b[0;32m~/anaconda3/envs/bioinf/lib/python3.7/site-packages/Bio/Entrez/__init__.py\u001b[0m in \u001b[0;36mefetch\u001b[0;34m(db, **keywords)\u001b[0m\n\u001b[1;32m    198\u001b[0m             \u001b[0mpost\u001b[0m \u001b[0;34m=\u001b[0m \u001b[0;32mTrue\u001b[0m\u001b[0;34m\u001b[0m\u001b[0;34m\u001b[0m\u001b[0m\n\u001b[0;32m--> 199\u001b[0;31m     \u001b[0;32mreturn\u001b[0m \u001b[0m_open\u001b[0m\u001b[0;34m(\u001b[0m\u001b[0mcgi\u001b[0m\u001b[0;34m,\u001b[0m \u001b[0mvariables\u001b[0m\u001b[0;34m,\u001b[0m \u001b[0mpost\u001b[0m\u001b[0;34m=\u001b[0m\u001b[0mpost\u001b[0m\u001b[0;34m)\u001b[0m\u001b[0;34m\u001b[0m\u001b[0;34m\u001b[0m\u001b[0m\n\u001b[0m\u001b[1;32m    200\u001b[0m \u001b[0;34m\u001b[0m\u001b[0m\n",
      "\u001b[0;32m~/anaconda3/envs/bioinf/lib/python3.7/site-packages/Bio/Entrez/__init__.py\u001b[0m in \u001b[0;36m_open\u001b[0;34m(cgi, params, post, ecitmatch)\u001b[0m\n\u001b[1;32m    568\u001b[0m             \u001b[0;32melse\u001b[0m\u001b[0;34m:\u001b[0m\u001b[0;34m\u001b[0m\u001b[0;34m\u001b[0m\u001b[0m\n\u001b[0;32m--> 569\u001b[0;31m                 \u001b[0mhandle\u001b[0m \u001b[0;34m=\u001b[0m \u001b[0m_urlopen\u001b[0m\u001b[0;34m(\u001b[0m\u001b[0mcgi\u001b[0m\u001b[0;34m)\u001b[0m\u001b[0;34m\u001b[0m\u001b[0;34m\u001b[0m\u001b[0m\n\u001b[0m\u001b[1;32m    570\u001b[0m         \u001b[0;32mexcept\u001b[0m \u001b[0m_URLError\u001b[0m \u001b[0;32mas\u001b[0m \u001b[0mexception\u001b[0m\u001b[0;34m:\u001b[0m\u001b[0;34m\u001b[0m\u001b[0;34m\u001b[0m\u001b[0m\n",
      "\u001b[0;32m~/anaconda3/envs/bioinf/lib/python3.7/urllib/request.py\u001b[0m in \u001b[0;36murlopen\u001b[0;34m(url, data, timeout, cafile, capath, cadefault, context)\u001b[0m\n\u001b[1;32m    221\u001b[0m         \u001b[0mopener\u001b[0m \u001b[0;34m=\u001b[0m \u001b[0m_opener\u001b[0m\u001b[0;34m\u001b[0m\u001b[0;34m\u001b[0m\u001b[0m\n\u001b[0;32m--> 222\u001b[0;31m     \u001b[0;32mreturn\u001b[0m \u001b[0mopener\u001b[0m\u001b[0;34m.\u001b[0m\u001b[0mopen\u001b[0m\u001b[0;34m(\u001b[0m\u001b[0murl\u001b[0m\u001b[0;34m,\u001b[0m \u001b[0mdata\u001b[0m\u001b[0;34m,\u001b[0m \u001b[0mtimeout\u001b[0m\u001b[0;34m)\u001b[0m\u001b[0;34m\u001b[0m\u001b[0;34m\u001b[0m\u001b[0m\n\u001b[0m\u001b[1;32m    223\u001b[0m \u001b[0;34m\u001b[0m\u001b[0m\n",
      "\u001b[0;32m~/anaconda3/envs/bioinf/lib/python3.7/urllib/request.py\u001b[0m in \u001b[0;36mopen\u001b[0;34m(self, fullurl, data, timeout)\u001b[0m\n\u001b[1;32m    530\u001b[0m             \u001b[0mmeth\u001b[0m \u001b[0;34m=\u001b[0m \u001b[0mgetattr\u001b[0m\u001b[0;34m(\u001b[0m\u001b[0mprocessor\u001b[0m\u001b[0;34m,\u001b[0m \u001b[0mmeth_name\u001b[0m\u001b[0;34m)\u001b[0m\u001b[0;34m\u001b[0m\u001b[0;34m\u001b[0m\u001b[0m\n\u001b[0;32m--> 531\u001b[0;31m             \u001b[0mresponse\u001b[0m \u001b[0;34m=\u001b[0m \u001b[0mmeth\u001b[0m\u001b[0;34m(\u001b[0m\u001b[0mreq\u001b[0m\u001b[0;34m,\u001b[0m \u001b[0mresponse\u001b[0m\u001b[0;34m)\u001b[0m\u001b[0;34m\u001b[0m\u001b[0;34m\u001b[0m\u001b[0m\n\u001b[0m\u001b[1;32m    532\u001b[0m \u001b[0;34m\u001b[0m\u001b[0m\n",
      "\u001b[0;32m~/anaconda3/envs/bioinf/lib/python3.7/urllib/request.py\u001b[0m in \u001b[0;36mhttp_response\u001b[0;34m(self, request, response)\u001b[0m\n\u001b[1;32m    640\u001b[0m             response = self.parent.error(\n\u001b[0;32m--> 641\u001b[0;31m                 'http', request, response, code, msg, hdrs)\n\u001b[0m\u001b[1;32m    642\u001b[0m \u001b[0;34m\u001b[0m\u001b[0m\n",
      "\u001b[0;32m~/anaconda3/envs/bioinf/lib/python3.7/urllib/request.py\u001b[0m in \u001b[0;36merror\u001b[0;34m(self, proto, *args)\u001b[0m\n\u001b[1;32m    568\u001b[0m             \u001b[0margs\u001b[0m \u001b[0;34m=\u001b[0m \u001b[0;34m(\u001b[0m\u001b[0mdict\u001b[0m\u001b[0;34m,\u001b[0m \u001b[0;34m'default'\u001b[0m\u001b[0;34m,\u001b[0m \u001b[0;34m'http_error_default'\u001b[0m\u001b[0;34m)\u001b[0m \u001b[0;34m+\u001b[0m \u001b[0morig_args\u001b[0m\u001b[0;34m\u001b[0m\u001b[0;34m\u001b[0m\u001b[0m\n\u001b[0;32m--> 569\u001b[0;31m             \u001b[0;32mreturn\u001b[0m \u001b[0mself\u001b[0m\u001b[0;34m.\u001b[0m\u001b[0m_call_chain\u001b[0m\u001b[0;34m(\u001b[0m\u001b[0;34m*\u001b[0m\u001b[0margs\u001b[0m\u001b[0;34m)\u001b[0m\u001b[0;34m\u001b[0m\u001b[0;34m\u001b[0m\u001b[0m\n\u001b[0m\u001b[1;32m    570\u001b[0m \u001b[0;34m\u001b[0m\u001b[0m\n",
      "\u001b[0;32m~/anaconda3/envs/bioinf/lib/python3.7/urllib/request.py\u001b[0m in \u001b[0;36m_call_chain\u001b[0;34m(self, chain, kind, meth_name, *args)\u001b[0m\n\u001b[1;32m    502\u001b[0m             \u001b[0mfunc\u001b[0m \u001b[0;34m=\u001b[0m \u001b[0mgetattr\u001b[0m\u001b[0;34m(\u001b[0m\u001b[0mhandler\u001b[0m\u001b[0;34m,\u001b[0m \u001b[0mmeth_name\u001b[0m\u001b[0;34m)\u001b[0m\u001b[0;34m\u001b[0m\u001b[0;34m\u001b[0m\u001b[0m\n\u001b[0;32m--> 503\u001b[0;31m             \u001b[0mresult\u001b[0m \u001b[0;34m=\u001b[0m \u001b[0mfunc\u001b[0m\u001b[0;34m(\u001b[0m\u001b[0;34m*\u001b[0m\u001b[0margs\u001b[0m\u001b[0;34m)\u001b[0m\u001b[0;34m\u001b[0m\u001b[0;34m\u001b[0m\u001b[0m\n\u001b[0m\u001b[1;32m    504\u001b[0m             \u001b[0;32mif\u001b[0m \u001b[0mresult\u001b[0m \u001b[0;32mis\u001b[0m \u001b[0;32mnot\u001b[0m \u001b[0;32mNone\u001b[0m\u001b[0;34m:\u001b[0m\u001b[0;34m\u001b[0m\u001b[0;34m\u001b[0m\u001b[0m\n",
      "\u001b[0;32m~/anaconda3/envs/bioinf/lib/python3.7/urllib/request.py\u001b[0m in \u001b[0;36mhttp_error_default\u001b[0;34m(self, req, fp, code, msg, hdrs)\u001b[0m\n\u001b[1;32m    648\u001b[0m     \u001b[0;32mdef\u001b[0m \u001b[0mhttp_error_default\u001b[0m\u001b[0;34m(\u001b[0m\u001b[0mself\u001b[0m\u001b[0;34m,\u001b[0m \u001b[0mreq\u001b[0m\u001b[0;34m,\u001b[0m \u001b[0mfp\u001b[0m\u001b[0;34m,\u001b[0m \u001b[0mcode\u001b[0m\u001b[0;34m,\u001b[0m \u001b[0mmsg\u001b[0m\u001b[0;34m,\u001b[0m \u001b[0mhdrs\u001b[0m\u001b[0;34m)\u001b[0m\u001b[0;34m:\u001b[0m\u001b[0;34m\u001b[0m\u001b[0;34m\u001b[0m\u001b[0m\n\u001b[0;32m--> 649\u001b[0;31m         \u001b[0;32mraise\u001b[0m \u001b[0mHTTPError\u001b[0m\u001b[0;34m(\u001b[0m\u001b[0mreq\u001b[0m\u001b[0;34m.\u001b[0m\u001b[0mfull_url\u001b[0m\u001b[0;34m,\u001b[0m \u001b[0mcode\u001b[0m\u001b[0;34m,\u001b[0m \u001b[0mmsg\u001b[0m\u001b[0;34m,\u001b[0m \u001b[0mhdrs\u001b[0m\u001b[0;34m,\u001b[0m \u001b[0mfp\u001b[0m\u001b[0;34m)\u001b[0m\u001b[0;34m\u001b[0m\u001b[0;34m\u001b[0m\u001b[0m\n\u001b[0m\u001b[1;32m    650\u001b[0m \u001b[0;34m\u001b[0m\u001b[0m\n",
      "\u001b[0;31mHTTPError\u001b[0m: HTTP Error 400: Bad Request",
      "\nDuring handling of the above exception, another exception occurred:\n",
      "\u001b[0;31mNameError\u001b[0m                                 Traceback (most recent call last)",
      "\u001b[0;32m<ipython-input-37-d6c98f0ac928>\u001b[0m in \u001b[0;36m<module>\u001b[0;34m\u001b[0m\n\u001b[1;32m      9\u001b[0m         \u001b[0mseq\u001b[0m \u001b[0;34m=\u001b[0m \u001b[0mEntrez\u001b[0m\u001b[0;34m.\u001b[0m\u001b[0mefetch\u001b[0m\u001b[0;34m(\u001b[0m\u001b[0mdb\u001b[0m\u001b[0;34m=\u001b[0m\u001b[0;34m'nucleotide'\u001b[0m\u001b[0;34m,\u001b[0m \u001b[0mid\u001b[0m\u001b[0;34m=\u001b[0m\u001b[0;34m[\u001b[0m\u001b[0mindex\u001b[0m\u001b[0;34m]\u001b[0m\u001b[0;34m,\u001b[0m \u001b[0mrettype\u001b[0m\u001b[0;34m=\u001b[0m\u001b[0;34m'fasta'\u001b[0m\u001b[0;34m)\u001b[0m\u001b[0;34m\u001b[0m\u001b[0;34m\u001b[0m\u001b[0m\n\u001b[1;32m     10\u001b[0m         \u001b[0mrecords\u001b[0m\u001b[0;34m.\u001b[0m\u001b[0mappend\u001b[0m\u001b[0;34m(\u001b[0m\u001b[0mSeqIO\u001b[0m\u001b[0;34m.\u001b[0m\u001b[0mread\u001b[0m\u001b[0;34m(\u001b[0m\u001b[0mseq\u001b[0m\u001b[0;34m,\u001b[0m \u001b[0;34m'fasta'\u001b[0m\u001b[0;34m)\u001b[0m\u001b[0;34m)\u001b[0m\u001b[0;34m\u001b[0m\u001b[0;34m\u001b[0m\u001b[0m\n\u001b[0;32m---> 11\u001b[0;31m     \u001b[0;32mexcept\u001b[0m \u001b[0mExceprion\u001b[0m \u001b[0;32mas\u001b[0m \u001b[0mex\u001b[0m\u001b[0;34m:\u001b[0m\u001b[0;34m\u001b[0m\u001b[0;34m\u001b[0m\u001b[0m\n\u001b[0m\u001b[1;32m     12\u001b[0m         \u001b[0mprint\u001b[0m\u001b[0;34m(\u001b[0m\u001b[0mex\u001b[0m\u001b[0;34m)\u001b[0m\u001b[0;34m\u001b[0m\u001b[0;34m\u001b[0m\u001b[0m\n\u001b[1;32m     13\u001b[0m \u001b[0mSeqIO\u001b[0m\u001b[0;34m.\u001b[0m\u001b[0mwrite\u001b[0m\u001b[0;34m(\u001b[0m\u001b[0mrecords\u001b[0m\u001b[0;34m,\u001b[0m \u001b[0;34m'all_sequeces.fasta'\u001b[0m\u001b[0;34m,\u001b[0m \u001b[0;34m'fasta'\u001b[0m\u001b[0;34m)\u001b[0m\u001b[0;34m\u001b[0m\u001b[0;34m\u001b[0m\u001b[0m\n",
      "\u001b[0;31mNameError\u001b[0m: name 'Exceprion' is not defined"
     ]
    }
   ],
   "source": [
    "from Bio import Entrez, SeqIO\n",
    "from Bio.Seq import Seq\n",
    "\n",
    "Entrez.email = 'alexander.kursanov@gmail.com'\n",
    "records = []\n",
    "\n",
    "for index in indexes:\n",
    "    try:\n",
    "        seq = Entrez.efetch(db='nucleotide', id=[index], rettype='fasta')\n",
    "        records.append(SeqIO.read(seq, 'fasta'))\n",
    "    except Exceprion as ex:\n",
    "        print(ex)\n",
    "SeqIO.write(records, 'all_sequeces.fasta', 'fasta')"
   ]
  },
  {
   "cell_type": "code",
   "execution_count": 12,
   "metadata": {
    "collapsed": true,
    "jupyter": {
     "outputs_hidden": true,
     "source_hidden": true
    }
   },
   "outputs": [
    {
     "name": "stdout",
     "output_type": "stream",
     "text": [
      "Count = 1\n",
      "RetMax = 1\n",
      "RetStart = 0\n",
      "QueryKey = 1\n",
      "WebEnv = NCID_1_192858682_130.14.22.76_9001_1584438971_1191049073_0MetA0_S_MegaStore\n",
      "IdList = ['514684277']\n",
      "TranslationSet = []\n",
      "QueryTranslation = \n",
      "<?xml version=\"1.0\" encoding=\"UTF-8\" ?>\n",
      "<!DOCTYPE eSummaryResult PUBLIC \"-//NLM//DTD esummary v1 20041029//EN\" \"https://eutils.ncbi.nlm.nih.gov/eutils/dtd/20041029/esummary-v1.dtd\">\n",
      "<eSummaryResult>\n",
      "<DocSum>\n",
      "\t<Id>514684277</Id>\n",
      "\t<Item Name=\"Caption\" Type=\"String\">XP_004989719</Item>\n",
      "\t<Item Name=\"Title\" Type=\"String\">voltage-dependent L type calcium channel alpha 1 [Salpingoeca rosetta]</Item>\n",
      "\t<Item Name=\"Extra\" Type=\"String\">gi|514684277|ref|XP_004989719.1||gnl|REF_WGS:ACSY|PTSG_09464T0[514684277]</Item>\n",
      "\t<Item Name=\"Gi\" Type=\"Integer\">514684277</Item>\n",
      "\t<Item Name=\"CreateDate\" Type=\"String\">2013/06/25</Item>\n",
      "\t<Item Name=\"UpdateDate\" Type=\"String\">2015/05/28</Item>\n",
      "\t<Item Name=\"Flags\" Type=\"Integer\">512</Item>\n",
      "\t<Item Name=\"TaxId\" Type=\"Integer\">946362</Item>\n",
      "\t<Item Name=\"Length\" Type=\"Integer\">1446</Item>\n",
      "\t<Item Name=\"Status\" Type=\"String\">live</Item>\n",
      "\t<Item Name=\"ReplacedBy\" Type=\"String\"></Item>\n",
      "\t<Item Name=\"Comment\" Type=\"String\"><![CDATA[  ]]></Item>\n",
      "\t<Item Name=\"AccessionVersion\" Type=\"String\">XP_004989719.1</Item>\n",
      "</DocSum>\n",
      "\n",
      "</eSummaryResult>\n",
      "\n"
     ]
    }
   ],
   "source": [
    "from Bio import Entrez\n",
    "import xmltodict\n",
    "\n",
    "# initialize some default parameters\n",
    "Entrez.email = 'myemail@ncbi.nlm.nih.gov' # provide your email address\n",
    "db = 'protein'                              # set search to dbVar database\n",
    "paramEutils = { 'usehistory':'Y' }        # Use Entrez search history to cache results\n",
    "\n",
    "# generate query to Entrez eSearch\n",
    "eSearch = Entrez.esearch(db=db, term='XP_004989719.1', **paramEutils)\n",
    "\n",
    "# get eSearch result as dict object\n",
    "res = Entrez.read(eSearch)\n",
    "\n",
    "# take a peek of what's in the result (ie. WebEnv, Count, etc.)\n",
    "for k in res:\n",
    "    print (k, \"=\",  res[k])\n",
    "\n",
    "paramEutils['WebEnv'] = res['WebEnv']         #add WebEnv and query_key to eUtils parameters to request esummary using  \n",
    "paramEutils['query_key'] = res['QueryKey']    #search history (cache results) instead of using IdList \n",
    "paramEutils['rettype'] = 'xml'                #get report as xml\n",
    "paramEutils['retstart'] = 0                   #get result starting at 0, top of IdList\n",
    "paramEutils['retmax'] = 5                     #get next five results\n",
    "\n",
    "# generate request to Entrez eSummary\n",
    "result = Entrez.esummary(db=db, **paramEutils)\n",
    "# get xml result\n",
    "xml = result.read()\n",
    "# take a peek at xml\n",
    "print(xml)"
   ]
  },
  {
   "cell_type": "markdown",
   "metadata": {},
   "source": [
    "<h2>Alignment on the Cluster</h2>"
   ]
  },
  {
   "cell_type": "code",
   "execution_count": 31,
   "metadata": {},
   "outputs": [],
   "source": [
    "from Bio.Align.Applications import MuscleCommandline\n",
    "\n",
    "input_filename = './all_sequeces.fasta'\n",
    "output_filename = './aligned_sequences.txt'\n",
    "\n",
    "muscle_cline = MuscleCommandline(input=input_filename, out=output_filename)\n",
    "\n",
    "try:\n",
    "    stdout, stderr = muscle_cline()\n",
    "except Exception as ex:\n",
    "    print(ex)"
   ]
  },
  {
   "cell_type": "code",
   "execution_count": null,
   "metadata": {},
   "outputs": [],
   "source": [
    "from Bio.Align.Applications import ClustalwCommandline\n",
    "\n",
    "clustalw_cline = ClustalwCommandline(\"clustalw2\", infile =input_filename)\n",
    "\n",
    "try:\n",
    "    stdout, stderr = clustalw_cline()\n",
    "except Exception as ex:\n",
    "    print(ex)"
   ]
  },
  {
   "cell_type": "markdown",
   "metadata": {},
   "source": [
    "<h2>Draw trees</h2>"
   ]
  },
  {
   "cell_type": "code",
   "execution_count": null,
   "metadata": {},
   "outputs": [],
   "source": [
    "from Bio import AlignIO\n",
    "from Bio import Phylo\n",
    "\n",
    "tree = Phylo.read(dnd_filename, \"newick\")\n",
    "Phylo.draw_ascii(tree)"
   ]
  }
 ],
 "metadata": {
  "kernelspec": {
   "display_name": "Python 3",
   "language": "python",
   "name": "python3"
  },
  "language_info": {
   "codemirror_mode": {
    "name": "ipython",
    "version": 3
   },
   "file_extension": ".py",
   "mimetype": "text/x-python",
   "name": "python",
   "nbconvert_exporter": "python",
   "pygments_lexer": "ipython3",
   "version": "3.7.4"
  }
 },
 "nbformat": 4,
 "nbformat_minor": 4
}
