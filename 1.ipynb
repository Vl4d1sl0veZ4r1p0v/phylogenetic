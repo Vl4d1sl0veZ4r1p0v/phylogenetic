{
 "cells": [
  {
   "cell_type": "code",
   "execution_count": 1,
   "metadata": {},
   "outputs": [
    {
     "name": "stdout",
     "output_type": "stream",
     "text": [
      ">XP_004989719.1 voltage-dependent L type calcium channel alpha 1 [Salpingoeca rosetta]\n",
      "MTNDDLSSRETDSLEYVFLAIFTLEALLKIIATGFLFCGPPSYLRNKWNILDFIIVAVGLIGVVVEQSGS\n",
      "SVADVKALRALRVLRPLRLITSVQSLQIVLNSILLSIPALADVAMLLGFLIVIYAIIGLEFYRGVLNHQC\n",
      "FLPSSDVGANVTADRYINNTPYFLAPDTAPCDPAGRGRVCSTDGLCLAGSSPNSNITAFDHAGSFLKFDA\n",
      "AESMAEHEQNFFNSSAGADGNDGDDDDDDIDDDATTVLVLGLSLPSGNRDFVEAEPTEPISNIRTRIMQK\n",
      "FAEQGEDRDKLMSFVLAHPHDGHILDETRTLGEQGVQVKSLREYNEILTMSQHNQHELLKPATVQMLSKL\n",
      "GAVVKSRWFNLVVTFMVLVNTVLLAVQTDAGATDEAAFAFTIVEASFVGLFVLEMLVKLAGLRPHMYFES\n",
      "KFNRFDLTVVLLSLLELILVHTTGLRSIGISALRSLRLLRIFREMKQYWEDINDFVVSLLNSIASIVSLL\n",
      "LLILIYMVIVALLGMQIFGGRFDFEDPKPRINFDDFFSALLTVFIVIVGDDWNSVMYNGILAYNGVNKDG\n",
      "WVAIVFFCVVVILGMFVLLNVFLAIAVKSLDDARDLKAARDEHKERWKAEAAVSDESEDDREDRRRHRQY\n",
      "ANPLVGAAEQEKEEVELQNTVLCDVDNVPLRKHLTRAVANNKSLFCLGPRNSFRKFCNNIAYDNRFESVI\n",
      "LLLILISSALLAAEDPVNLDAQINKDLETADIFFTSVFSLEMALKIVALGFIPYITDPWNDLDAVVVLAS\n",
      "VVSLAISSDDAAVVRVLRVFRVLRPLRAIKRAPGLRKVVSCMVVSIKTIGNVFIVTFLLTFIYAIIGVQS\n",
      "FKECFGRCNDPDVMFKSQCNGTFLVEDDAGLFSNATRAWSTPYFNFDNVGKGMLTLFTVSTLEGWIDVMN\n",
      "NAIDCTAENRQPERNNNPVAALFFVTYVILVAFFMLNIFVGYVIITFSSEGESYEAVDGLDKNQRKCLAF\n",
      "CLNAQPIRVHRPLYRAQISIFRFVSSKHFEWFIMAAIIGNSIVLLMAYEGMPSDYEMGLQLCNIVFTGIF\n",
      "TVEALLKLFALNPTGYFHDSWNFFDFIIVVGSLVDVFLSATQSSGDSGVNIGFLRLFRVARLLKLVSRGK\n",
      "GMKRLLWTFAKSFQSLPYVAALIMMLFFVYAVIGMQLFARTGFREDGDINEHNNFRDFFGALLLLFRCAT\n",
      "GENWQNMMRDIHLGPPNCDPATEPGVCGSVVAVPFFCTFLVLCSFLILNLFVAVIMDNFEYLTQDNSLLG\n",
      "EHDLPQFIDRWSEFDPACTHRISHHDLMELLRSEEPPLGFGRKCPPKTVYSKMMRLNVPLHLDGTVDFHA\n",
      "CLLAIVRNQLHIKTSYLDGSWEQRNYDLRKLLEKLYDPPKEQLDRMLPPPSKRNVTIGVLYAVYLLQEIY\n",
      "RENKRNAARQARETAEVLDAGSNEEKPQPSENEEVEDDLRLVEHAF\n",
      "\n",
      "\n"
     ]
    }
   ],
   "source": [
    "from Bio import Entrez\n",
    "\n",
    "entrezDbName = 'protein'\n",
    "ncbiTaxId = 'XP_004989719' # протеин\n",
    "Entrez.email = 'email@example.org'\n",
    "\n",
    "# Find entries matching the query\n",
    "entrezQuery = ncbiTaxId\n",
    "searchResultHandle = Entrez.esearch(db=entrezDbName, term=entrezQuery)\n",
    "searchResult = Entrez.read(searchResultHandle)\n",
    "searchResultHandle.close()\n",
    "\n",
    "# Get the data.\n",
    "uidList = ','.join(searchResult['IdList'])\n",
    "entryData = Entrez.efetch(db=entrezDbName, id=uidList, rettype='fasta').read()\n",
    "print (entryData)"
   ]
  },
  {
   "cell_type": "code",
   "execution_count": 2,
   "metadata": {},
   "outputs": [
    {
     "name": "stdout",
     "output_type": "stream",
     "text": [
      "LOCUS       XP_004989719            1446 aa            linear   INV 28-MAY-2015\n",
      "DEFINITION  voltage-dependent L type calcium channel alpha 1 [Salpingoeca\n",
      "            rosetta].\n",
      "ACCESSION   XP_004989719\n",
      "VERSION     XP_004989719.1\n",
      "DBLINK      BioProject: PRJNA193541\n",
      "            BioSample: SAMN00013333\n",
      "DBSOURCE    REFSEQ: accession XM_004989662.1\n",
      "KEYWORDS    RefSeq.\n",
      "SOURCE      Salpingoeca rosetta\n",
      "  ORGANISM  Salpingoeca rosetta\n",
      "            Eukaryota; Choanoflagellida; Craspedida; Salpingoecidae;\n",
      "            Salpingoeca.\n",
      "REFERENCE   1  (residues 1 to 1446)\n",
      "  AUTHORS   Russ,C., Cuomo,C., Burger,G., Gray,M.W., Holland,P.W.H., King,N.,\n",
      "            Lang,F.B.F., Roger,A.J., Ruiz-Trillo,I., Young,S.K., Zeng,Q.,\n",
      "            Gargeya,S., Alvarado,L., Berlin,A., Chapman,S.B., Chen,Z.,\n",
      "            Freedman,E., Gellesch,M., Goldberg,J., Griggs,A., Gujja,S.,\n",
      "            Heilman,E., Heiman,D., Howarth,C., Mehta,T., Neiman,D., Pearson,M.,\n",
      "            Roberts,A., Saif,S., Shea,T., Shenoy,N., Sisk,P., Stolte,C.,\n",
      "            Sykes,S., White,J., Yandava,C., Haas,B., Nusbaum,C. and Birren,B.\n",
      "  CONSRTM   The Broad Institute Genome Sequencing Platform\n",
      "  TITLE     Annotation of Salpingoeca rosetta\n",
      "  JOURNAL   Unpublished\n",
      "REFERENCE   2  (residues 1 to 1446)\n",
      "  CONSRTM   NCBI Genome Project\n",
      "  TITLE     Direct Submission\n",
      "  JOURNAL   Submitted (28-MAY-2015) National Center for Biotechnology\n",
      "            Information, NIH, Bethesda, MD 20894, USA\n",
      "REFERENCE   3  (residues 1 to 1446)\n",
      "  AUTHORS   Russ,C., Cuomo,C., Shea,T., Young,S.K., Zeng,Q., Koehrsen,M.,\n",
      "            Haas,B., Borodovsky,M., Guigo,R., Alvarado,L., Berlin,A.,\n",
      "            Bochicchio,J., Borenstein,D., Chapman,S., Chen,Z., Engels,R.,\n",
      "            Freedman,E., Gellesch,M., Goldberg,J., Griggs,A., Gujja,S.,\n",
      "            Heiman,D., Hepburn,T., Howarth,C., Jen,D., Larson,L., Lewis,B.,\n",
      "            Mehta,T., Park,D., Pearson,M., Roberts,A., Saif,S., Shenoy,N.,\n",
      "            Sisk,P., Stolte,C., Sykes,S., Thomson,T., Walk,T., White,J.,\n",
      "            Yandava,C., Burger,G., Gray,M.W., Holland,P.W.H., King,N.,\n",
      "            Lang,F.B.F., Roger,A.J., Ruiz-Trillo,I., Lander,E. and Nusbaum,C.\n",
      "  CONSRTM   The Broad Institute Genome Sequencing Platform\n",
      "  TITLE     Direct Submission\n",
      "  JOURNAL   Submitted (14-AUG-2009) Broad Institute of MIT and Harvard, 7\n",
      "            Cambridge Center, Cambridge, MA 02142, USA\n",
      "COMMENT     PROVISIONAL REFSEQ: This record has not yet been subject to final\n",
      "            NCBI review. The reference sequence is identical to EGD78396.\n",
      "            Method: conceptual translation.\n",
      "FEATURES             Location/Qualifiers\n",
      "     source          1..1446\n",
      "                     /organism=\"Salpingoeca rosetta\"\n",
      "                     /strain=\"ATCC 50818\"\n",
      "                     /culture_collection=\"ATCC:50818\"\n",
      "                     /db_xref=\"taxon:946362\"\n",
      "                     /chromosome=\"Unknown\"\n",
      "     Protein         1..1446\n",
      "                     /product=\"voltage-dependent L type calcium channel alpha\n",
      "                     1\"\n",
      "                     /calculated_mol_wt=162140\n",
      "     Region          14..>138\n",
      "                     /region_name=\"Ion_trans\"\n",
      "                     /note=\"Ion transport protein; pfam00520\"\n",
      "                     /db_xref=\"CDD:278921\"\n",
      "     Region          390..595\n",
      "                     /region_name=\"Ion_trans\"\n",
      "                     /note=\"Ion transport protein; pfam00520\"\n",
      "                     /db_xref=\"CDD:278921\"\n",
      "     Region          718..965\n",
      "                     /region_name=\"Ion_trans\"\n",
      "                     /note=\"Ion transport protein; pfam00520\"\n",
      "                     /db_xref=\"CDD:278921\"\n",
      "     Region          1026..1255\n",
      "                     /region_name=\"Ion_trans\"\n",
      "                     /note=\"Ion transport protein; pfam00520\"\n",
      "                     /db_xref=\"CDD:278921\"\n",
      "     Region          1265..1328\n",
      "                     /region_name=\"GPHH\"\n",
      "                     /note=\"Voltage-dependent L-type calcium channel,\n",
      "                     IQ-associated; pfam16905\"\n",
      "                     /db_xref=\"CDD:293510\"\n",
      "     Region          1330..1403\n",
      "                     /region_name=\"Ca_chan_IQ\"\n",
      "                     /note=\"Voltage gated calcium channel IQ domain; pfam08763\"\n",
      "                     /db_xref=\"CDD:285917\"\n",
      "     CDS             1..1446\n",
      "                     /locus_tag=\"PTSG_09464\"\n",
      "                     /coded_by=\"XM_004989662.1:1..4341\"\n",
      "                     /db_xref=\"GeneID:16070270\"\n",
      "ORIGIN      \n",
      "        1 mtnddlssre tdsleyvfla iftleallki iatgflfcgp psylrnkwni ldfiivavgl\n",
      "       61 igvvveqsgs svadvkalra lrvlrplrli tsvqslqivl nsillsipal advamllgfl\n",
      "      121 iviyaiigle fyrgvlnhqc flpssdvgan vtadryinnt pyflapdtap cdpagrgrvc\n",
      "      181 stdglclags spnsnitafd hagsflkfda aesmaeheqn ffnssagadg ndgddddddi\n",
      "      241 dddattvlvl glslpsgnrd fveaeptepi snirtrimqk faeqgedrdk lmsfvlahph\n",
      "      301 dghildetrt lgeqgvqvks lreyneiltm sqhnqhellk patvqmlskl gavvksrwfn\n",
      "      361 lvvtfmvlvn tvllavqtda gatdeaafaf tiveasfvgl fvlemlvkla glrphmyfes\n",
      "      421 kfnrfdltvv llsllelilv httglrsigi salrslrllr ifremkqywe dindfvvsll\n",
      "      481 nsiasivsll lliliymviv allgmqifgg rfdfedpkpr infddffsal ltvfivivgd\n",
      "      541 dwnsvmyngi layngvnkdg wvaivffcvv vilgmfvlln vflaiavksl ddardlkaar\n",
      "      601 dehkerwkae aavsdesedd redrrrhrqy anplvgaaeq ekeevelqnt vlcdvdnvpl\n",
      "      661 rkhltravan nkslfclgpr nsfrkfcnni aydnrfesvi lllilissal laaedpvnld\n",
      "      721 aqinkdleta difftsvfsl emalkivalg fipyitdpwn dldavvvlas vvslaissdd\n",
      "      781 aavvrvlrvf rvlrplraik rapglrkvvs cmvvsiktig nvfivtfllt fiyaiigvqs\n",
      "      841 fkecfgrcnd pdvmfksqcn gtflveddag lfsnatraws tpyfnfdnvg kgmltlftvs\n",
      "      901 tlegwidvmn naidctaenr qpernnnpva alffvtyvil vaffmlnifv gyviitfsse\n",
      "      961 gesyeavdgl dknqrkclaf clnaqpirvh rplyraqisi frfvsskhfe wfimaaiign\n",
      "     1021 sivllmayeg mpsdyemglq lcnivftgif tveallklfa lnptgyfhds wnffdfiivv\n",
      "     1081 gslvdvflsa tqssgdsgvn igflrlfrva rllklvsrgk gmkrllwtfa ksfqslpyva\n",
      "     1141 alimmlffvy avigmqlfar tgfredgdin ehnnfrdffg allllfrcat genwqnmmrd\n",
      "     1201 ihlgppncdp atepgvcgsv vavpffctfl vlcsflilnl fvavimdnfe yltqdnsllg\n",
      "     1261 ehdlpqfidr wsefdpacth rishhdlmel lrseepplgf grkcppktvy skmmrlnvpl\n",
      "     1321 hldgtvdfha cllaivrnql hiktsyldgs weqrnydlrk lleklydppk eqldrmlppp\n",
      "     1381 skrnvtigvl yavyllqeiy renkrnaarq aretaevlda gsneekpqps eneeveddlr\n",
      "     1441 lvehaf\n",
      "//\n",
      "\n",
      "\n"
     ]
    }
   ],
   "source": [
    "from Bio import Entrez, SeqIO\n",
    "Entrez.email = 'myemail@ncbi.nlm.nih.gov' # Always tell NCBI who you are\n",
    "entrezDbName = 'protein' # set search to dbVar database\n",
    "ncbiTaxId = 'XP_004989719' # protein\n",
    "\n",
    "handle_gen = Entrez.efetch(db=entrezDbName, id=ncbiTaxId, rettype=\"gb\", retmode=\"text\")\n",
    "print(handle_gen.read())\n"
   ]
  },
  {
   "cell_type": "code",
   "execution_count": 4,
   "metadata": {},
   "outputs": [
    {
     "name": "stdout",
     "output_type": "stream",
     "text": [
      "ID: XP_004989719.1\n",
      "Name: XP_004989719\n",
      "Description: voltage-dependent L type calcium channel alpha 1 [Salpingoeca rosetta]\n",
      "Database cross-references: BioProject:PRJNA193541, BioSample:SAMN00013333\n",
      "Number of features: 9\n",
      "/topology=linear\n",
      "/data_file_division=INV\n",
      "/date=28-MAY-2015\n",
      "/accessions=['XP_004989719']\n",
      "/sequence_version=1\n",
      "/db_source=REFSEQ: accession XM_004989662.1\n",
      "/keywords=['RefSeq']\n",
      "/source=Salpingoeca rosetta\n",
      "/organism=Salpingoeca rosetta\n",
      "/taxonomy=['Eukaryota', 'Choanoflagellida', 'Craspedida', 'Salpingoecidae', 'Salpingoeca']\n",
      "/references=[Reference(title='Annotation of Salpingoeca rosetta', ...), Reference(title='Direct Submission', ...), Reference(title='Direct Submission', ...)]\n",
      "/comment=PROVISIONAL REFSEQ: This record has not yet been subject to final\n",
      "NCBI review. The reference sequence is identical to EGD78396.\n",
      "Method: conceptual translation.\n",
      "Seq('MTNDDLSSRETDSLEYVFLAIFTLEALLKIIATGFLFCGPPSYLRNKWNILDFI...HAF', IUPACProtein())\n"
     ]
    }
   ],
   "source": [
    "from Bio import Entrez, SeqIO\n",
    "Entrez.email = 'myemail@ncbi.nlm.nih.gov' # Always tell NCBI who you are\n",
    "entrezDbName = 'protein' # set search to dbVar database\n",
    "ncbiTaxId = 'XP_004989719' # protein\n",
    "\n",
    "handle_gen = Entrez.efetch(db=entrezDbName, id=ncbiTaxId, rettype=\"gb\", retmode=\"text\")\n",
    "record = SeqIO.read(handle_gen, \"genbank\")\n",
    "handle_gen.close()\n",
    "print(record)"
   ]
  },
  {
   "cell_type": "code",
   "execution_count": 5,
   "metadata": {},
   "outputs": [
    {
     "data": {
      "text/plain": [
       "SeqRecord(seq=Seq('MTNDDLSSRETDSLEYVFLAIFTLEALLKIIATGFLFCGPPSYLRNKWNILDFI...HAF', IUPACProtein()), id='XP_004989719.1', name='XP_004989719', description='voltage-dependent L type calcium channel alpha 1 [Salpingoeca rosetta]', dbxrefs=['BioProject:PRJNA193541', 'BioSample:SAMN00013333'])"
      ]
     },
     "execution_count": 5,
     "metadata": {},
     "output_type": "execute_result"
    }
   ],
   "source": [
    "record"
   ]
  },
  {
   "cell_type": "code",
   "execution_count": 6,
   "metadata": {},
   "outputs": [
    {
     "data": {
      "text/plain": [
       "'REFSEQ: accession XM_004989662.1'"
      ]
     },
     "execution_count": 6,
     "metadata": {},
     "output_type": "execute_result"
    }
   ],
   "source": [
    "record.annotations['db_source']"
   ]
  },
  {
   "cell_type": "code",
   "execution_count": null,
   "metadata": {},
   "outputs": [],
   "source": []
  },
  {
   "cell_type": "code",
   "execution_count": null,
   "metadata": {},
   "outputs": [],
   "source": []
  },
  {
   "cell_type": "code",
   "execution_count": null,
   "metadata": {},
   "outputs": [],
   "source": []
  },
  {
   "cell_type": "code",
   "execution_count": null,
   "metadata": {},
   "outputs": [],
   "source": []
  },
  {
   "cell_type": "code",
   "execution_count": null,
   "metadata": {},
   "outputs": [],
   "source": []
  }
 ],
 "metadata": {
  "kernelspec": {
   "display_name": "Python 3",
   "language": "python",
   "name": "python3"
  },
  "language_info": {
   "codemirror_mode": {
    "name": "ipython",
    "version": 3
   },
   "file_extension": ".py",
   "mimetype": "text/x-python",
   "name": "python",
   "nbconvert_exporter": "python",
   "pygments_lexer": "ipython3",
   "version": "3.7.4"
  }
 },
 "nbformat": 4,
 "nbformat_minor": 4
}
